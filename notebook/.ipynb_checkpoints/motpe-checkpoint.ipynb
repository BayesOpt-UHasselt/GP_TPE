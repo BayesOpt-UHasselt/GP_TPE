{
 "cells": [
  {
   "cell_type": "code",
   "execution_count": 8,
   "metadata": {},
   "outputs": [],
   "source": [
    "import sys\n",
    "sys.path.append('../')\n",
    "\n",
    "import ConfigSpace as CS\n",
    "import ConfigSpace.hyperparameters as CSH\n",
    "import numpy as np\n",
    "import optproblems.wfg\n",
    "import optproblems.zdt\n",
    "import pandas as pd\n",
    "import pyDOE2\n",
    "from pymoo.factory import get_performance_indicator\n",
    "import scipy.special\n",
    "\n",
    "from Problem import Problem\n",
    "from MOTPE import MOTPE\n",
    "from ZDT import ZDT1\n",
    "import argparse\n",
    "import matplotlib.pyplot as plt\n",
    "\n",
    "eps = sys.float_info.epsilon"
   ]
  },
  {
   "cell_type": "markdown",
   "metadata": {},
   "source": [
    "## Main\n"
   ]
  },
  {
   "cell_type": "code",
   "execution_count": 9,
   "metadata": {},
   "outputs": [
    {
     "ename": "KeyError",
     "evalue": "'scalarize'",
     "output_type": "error",
     "traceback": [
      "\u001b[1;31m---------------------------------------------------------------------------\u001b[0m",
      "\u001b[1;31mKeyError\u001b[0m                                  Traceback (most recent call last)",
      "\u001b[1;32m<ipython-input-9-fc06f601a5c6>\u001b[0m in \u001b[0;36m<module>\u001b[1;34m\u001b[0m\n\u001b[0;32m     22\u001b[0m \u001b[0msolver\u001b[0m  \u001b[1;33m=\u001b[0m \u001b[0mMOTPE\u001b[0m\u001b[1;33m(\u001b[0m\u001b[0mseed\u001b[0m\u001b[1;33m=\u001b[0m\u001b[0mseed\u001b[0m\u001b[1;33m)\u001b[0m\u001b[1;33m\u001b[0m\u001b[1;33m\u001b[0m\u001b[0m\n\u001b[0;32m     23\u001b[0m \u001b[1;33m\u001b[0m\u001b[0m\n\u001b[1;32m---> 24\u001b[1;33m history = solver.solve(\n\u001b[0m\u001b[0;32m     25\u001b[0m     \u001b[0mproblem\u001b[0m\u001b[1;33m,\u001b[0m\u001b[1;33m\u001b[0m\u001b[1;33m\u001b[0m\u001b[0m\n\u001b[0;32m     26\u001b[0m     {'num_initial_samples': num_initial_samples,\n",
      "\u001b[1;32m~\\Documents\\PyCharm Projects\\MOTPE\\MOTPE.py\u001b[0m in \u001b[0;36msolve\u001b[1;34m(self, problem, parameters)\u001b[0m\n\u001b[0;32m     62\u001b[0m     \u001b[1;32mdef\u001b[0m \u001b[0msolve\u001b[0m\u001b[1;33m(\u001b[0m\u001b[0mself\u001b[0m\u001b[1;33m,\u001b[0m \u001b[0mproblem\u001b[0m\u001b[1;33m,\u001b[0m \u001b[0mparameters\u001b[0m\u001b[1;33m)\u001b[0m\u001b[1;33m:\u001b[0m\u001b[1;33m\u001b[0m\u001b[1;33m\u001b[0m\u001b[0m\n\u001b[0;32m     63\u001b[0m \u001b[1;33m\u001b[0m\u001b[0m\n\u001b[1;32m---> 64\u001b[1;33m         \u001b[0mcs\u001b[0m\u001b[1;33m,\u001b[0m \u001b[0mi\u001b[0m \u001b[1;33m=\u001b[0m \u001b[0mself\u001b[0m\u001b[1;33m.\u001b[0m\u001b[0minit_model\u001b[0m\u001b[1;33m(\u001b[0m\u001b[0mparameters\u001b[0m\u001b[1;33m,\u001b[0m \u001b[0mproblem\u001b[0m\u001b[1;33m)\u001b[0m\u001b[1;33m\u001b[0m\u001b[1;33m\u001b[0m\u001b[0m\n\u001b[0m\u001b[0;32m     65\u001b[0m \u001b[1;33m\u001b[0m\u001b[0m\n\u001b[0;32m     66\u001b[0m         \u001b[1;32mwhile\u001b[0m \u001b[0mlen\u001b[0m\u001b[1;33m(\u001b[0m\u001b[0mself\u001b[0m\u001b[1;33m.\u001b[0m\u001b[0m_history\u001b[0m\u001b[1;33m)\u001b[0m \u001b[1;33m<\u001b[0m \u001b[0mparameters\u001b[0m\u001b[1;33m[\u001b[0m\u001b[1;34m'num_max_evals'\u001b[0m\u001b[1;33m]\u001b[0m\u001b[1;33m:\u001b[0m\u001b[1;33m\u001b[0m\u001b[1;33m\u001b[0m\u001b[0m\n",
      "\u001b[1;32m~\\Documents\\PyCharm Projects\\MOTPE\\MOTPE.py\u001b[0m in \u001b[0;36minit_model\u001b[1;34m(self, parameters, problem)\u001b[0m\n\u001b[0;32m     50\u001b[0m         \u001b[0mself\u001b[0m\u001b[1;33m.\u001b[0m\u001b[0mnum_candidates\u001b[0m \u001b[1;33m=\u001b[0m \u001b[0mparameters\u001b[0m\u001b[1;33m[\u001b[0m\u001b[1;34m'num_candidates'\u001b[0m\u001b[1;33m]\u001b[0m\u001b[1;33m\u001b[0m\u001b[1;33m\u001b[0m\u001b[0m\n\u001b[0;32m     51\u001b[0m         \u001b[0mself\u001b[0m\u001b[1;33m.\u001b[0m\u001b[0mgamma\u001b[0m \u001b[1;33m=\u001b[0m \u001b[0mparameters\u001b[0m\u001b[1;33m[\u001b[0m\u001b[1;34m'gamma'\u001b[0m\u001b[1;33m]\u001b[0m\u001b[1;33m\u001b[0m\u001b[1;33m\u001b[0m\u001b[0m\n\u001b[1;32m---> 52\u001b[1;33m         \u001b[0mself\u001b[0m\u001b[1;33m.\u001b[0m\u001b[0mscalarize\u001b[0m \u001b[1;33m=\u001b[0m \u001b[0mparameters\u001b[0m\u001b[1;33m[\u001b[0m\u001b[1;34m'scalarize'\u001b[0m\u001b[1;33m]\u001b[0m\u001b[1;33m\u001b[0m\u001b[1;33m\u001b[0m\u001b[0m\n\u001b[0m\u001b[0;32m     53\u001b[0m         \u001b[0mn_init_samples\u001b[0m \u001b[1;33m=\u001b[0m \u001b[0mparameters\u001b[0m\u001b[1;33m[\u001b[0m\u001b[1;34m'num_initial_samples'\u001b[0m\u001b[1;33m]\u001b[0m\u001b[1;33m\u001b[0m\u001b[1;33m\u001b[0m\u001b[0m\n\u001b[0;32m     54\u001b[0m         \u001b[1;31m# Weights for scalarization\u001b[0m\u001b[1;33m\u001b[0m\u001b[1;33m\u001b[0m\u001b[1;33m\u001b[0m\u001b[0m\n",
      "\u001b[1;31mKeyError\u001b[0m: 'scalarize'"
     ]
    }
   ],
   "source": [
    "\n",
    "seed                = 1990   #args.seed\n",
    "num_variables       = 1     #args.num_variables\n",
    "num_initial_samples = 10    #args.num_initial_samples\n",
    "\n",
    "num_max_evals       = 100   #args.num_max_evals\n",
    "num_objectives      = 2     #args.num_objectives\n",
    "\n",
    "k                   = 1     #args.k\n",
    "num_candidates      = 1000    #args.num_candidates\n",
    "init_method         = 'lhs' #args.init_method\n",
    "gamma               = 0.25   #args.gamma\n",
    "base_configuration  = {\n",
    "    'num_objectives': num_objectives,\n",
    "    'num_variables': num_variables,\n",
    "    'k': k,\n",
    "    'seed': seed}\n",
    "benchmark_name      = \"ZDT1\" #args.benchmark_name\n",
    "\n",
    "f       = ZDT1(benchmark_name, base_configuration)\n",
    "cs      = f.make_cs(CS.ConfigurationSpace(seed=seed))\n",
    "problem = Problem(f, cs)\n",
    "solver  = MOTPE(seed=seed)\n",
    "\n",
    "history = solver.solve(\n",
    "    problem,\n",
    "    {'num_initial_samples': num_initial_samples,\n",
    "     'num_max_evals': num_max_evals,\n",
    "     'init_method': init_method,\n",
    "     'num_candidates': num_candidates,\n",
    "     'gamma': gamma})\n",
    "if num_objectives == 2:\n",
    "    fig = plt.figure(figsize=(8, 6))\n",
    "    f1s = [fs['f1'] for fs in history['f']]\n",
    "    f2s = [fs['f2'] for fs in history['f']]\n",
    "    plt.scatter(f1s, f2s)\n",
    "    plt.title(benchmark_name)\n",
    "    plt.xlabel('f1')\n",
    "    plt.ylabel('f2')\n",
    "    plt.grid()\n",
    "    plt.show()\n",
    "else:\n",
    "#     print(history)\n",
    "    print(\"Done!\")"
   ]
  },
  {
   "cell_type": "markdown",
   "metadata": {},
   "source": [
    "# MLP optimization"
   ]
  },
  {
   "cell_type": "code",
   "execution_count": null,
   "metadata": {},
   "outputs": [],
   "source": [
    "from sklearn.model_selection import KFold\n",
    "from pandas import read_csv\n",
    "from sklearn.neural_network import MLPClassifier\n",
    "import numpy as np\n",
    "from sklearn.metrics import confusion_matrix\n",
    "from sklearn.datasets import fetch_openml"
   ]
  },
  {
   "cell_type": "code",
   "execution_count": null,
   "metadata": {},
   "outputs": [],
   "source": [
    "# seed                = 128   #args.seed\n",
    "# num_initial_samples = 19    #args.num_initial_samples\n",
    "# num_max_evals       = 100   #args.num_max_evals\n",
    "# num_objectives      = 2     #args.num_objectives\n",
    "# num_variables       = 2     #args.num_variables\n",
    "# k                   = 1     #args.k\n",
    "# num_candidates      = 10    #args.num_candidates\n",
    "# init_method         = 'random' #args.init_method\n",
    "# gamma               = 0.1   #args.gamma\n",
    "# base_configuration  = {\n",
    "#     'num_objectives': num_objectives,\n",
    "#     'num_variables': num_variables,\n",
    "#     'k': k,\n",
    "#     'seed': seed}\n",
    "# benchmark_name      = \"banana\" #args.benchmark_name\n",
    "\n",
    "# f       = ML(benchmark_name, base_configuration)\n",
    "# cs      = f.make_cs(CS.ConfigurationSpace(seed=seed))\n",
    "# problem = Problem(f, cs)\n",
    "# solver  = MOTPE(seed=seed)\n",
    "\n",
    "# history = solver.solve(\n",
    "#     problem,\n",
    "#     {'num_initial_samples': num_initial_samples,\n",
    "#      'num_max_evals': num_max_evals,\n",
    "#      'init_method': init_method,\n",
    "#      'num_candidates': num_candidates,\n",
    "#      'gamma': gamma})"
   ]
  },
  {
   "cell_type": "code",
   "execution_count": null,
   "metadata": {},
   "outputs": [],
   "source": [
    "# if num_objectives == 2:\n",
    "#     fig = plt.figure(figsize=(8, 6))\n",
    "#     f1s = [fs['f1'] for fs in history['f']]\n",
    "#     f2s = [-fs['f2'] for fs in history['f']]\n",
    "#     plt.scatter(f2s, f1s)\n",
    "#     plt.title(benchmark_name)\n",
    "#     plt.ylabel('recall')\n",
    "#     plt.xlabel('fpr')\n",
    "#     plt.grid()\n",
    "#     plt.show()\n",
    "# else:\n",
    "#     print(\"Done!\")"
   ]
  }
 ],
 "metadata": {
  "kernelspec": {
   "display_name": "Python 3",
   "language": "python",
   "name": "python3"
  },
  "language_info": {
   "codemirror_mode": {
    "name": "ipython",
    "version": 3
   },
   "file_extension": ".py",
   "mimetype": "text/x-python",
   "name": "python",
   "nbconvert_exporter": "python",
   "pygments_lexer": "ipython3",
   "version": "3.8.5"
  }
 },
 "nbformat": 4,
 "nbformat_minor": 4
}
